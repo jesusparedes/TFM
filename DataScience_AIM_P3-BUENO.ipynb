{
 "cells": [
  {
   "cell_type": "markdown",
   "metadata": {},
   "source": [
    "**4. También resultará interesante averiguar las diferencias entre los distintos analizadores (sobre todo formas \n",
    "anormales y contrastación seminal). No busques diferencias entre los distintos recolectores de semen (en la tabla \n",
    "EYACULADOS) porque la recogida es automática y sólo se registra la persona que recoge el producto, el cual no \n",
    "interviene casi nada en la operación.**"
   ]
  },
  {
   "cell_type": "code",
   "execution_count": 1,
   "metadata": {},
   "outputs": [],
   "source": [
    "import pandas as pd\n",
    "import numpy as np\n",
    "import matplotlib.pyplot as plt\n",
    "import seaborn as sbn"
   ]
  },
  {
   "cell_type": "code",
   "execution_count": 2,
   "metadata": {},
   "outputs": [],
   "source": [
    "pd.options.display.max_columns = None\n",
    "pd.options.display.max_rows = None\n",
    "\n",
    "df = pd.read_excel('EYACULADOS.xlsx')"
   ]
  },
  {
   "cell_type": "code",
   "execution_count": 3,
   "metadata": {},
   "outputs": [
    {
     "data": {
      "text/html": [
       "<div>\n",
       "<style scoped>\n",
       "    .dataframe tbody tr th:only-of-type {\n",
       "        vertical-align: middle;\n",
       "    }\n",
       "\n",
       "    .dataframe tbody tr th {\n",
       "        vertical-align: top;\n",
       "    }\n",
       "\n",
       "    .dataframe thead th {\n",
       "        text-align: right;\n",
       "    }\n",
       "</style>\n",
       "<table border=\"1\" class=\"dataframe\">\n",
       "  <thead>\n",
       "    <tr style=\"text-align: right;\">\n",
       "      <th></th>\n",
       "      <th>CODIGO</th>\n",
       "      <th>FECHA_REC</th>\n",
       "      <th>COD_VERRACO</th>\n",
       "      <th>VERRACO</th>\n",
       "      <th>CENTRO</th>\n",
       "      <th>ANALIZADOR</th>\n",
       "      <th>RECOLECTOR</th>\n",
       "      <th>VOLUMEN</th>\n",
       "      <th>CONCENTRACION</th>\n",
       "      <th>MOTILIDAD</th>\n",
       "      <th>CALIDAD_MOVIMIENTO</th>\n",
       "      <th>DOSIS_POTENCIAL</th>\n",
       "      <th>DOSIS_REAL</th>\n",
       "      <th>DOSIS_A_DILUIR</th>\n",
       "      <th>DILUYENTE</th>\n",
       "      <th>SEMEN_ANADIR</th>\n",
       "      <th>CONCENTRACION_REAL</th>\n",
       "      <th>VALIDO</th>\n",
       "      <th>MOTIVO_DESECHO</th>\n",
       "      <th>MOTIVO_DIFERENCIA</th>\n",
       "      <th>HETEROSPERMIA</th>\n",
       "      <th>CODIGO_HETEROSPERMIA</th>\n",
       "      <th>ENVASADAS</th>\n",
       "      <th>DILUIDO</th>\n",
       "      <th>BOLASER_BLANCO</th>\n",
       "      <th>BOLASER_MA</th>\n",
       "      <th>ID_DILUYENTE</th>\n",
       "      <th>ML_DILUYENTE</th>\n",
       "      <th>RAZA</th>\n",
       "      <th>DOSIS DILUIDAS</th>\n",
       "      <th>TEMP_DILUYENTE</th>\n",
       "      <th>CONDUCTIVIDAD</th>\n",
       "    </tr>\n",
       "  </thead>\n",
       "  <tbody>\n",
       "    <tr>\n",
       "      <th>0</th>\n",
       "      <td>140901</td>\n",
       "      <td>2020-01-03</td>\n",
       "      <td>2095</td>\n",
       "      <td>620ND06</td>\n",
       "      <td>CAL</td>\n",
       "      <td>68</td>\n",
       "      <td>56</td>\n",
       "      <td>317</td>\n",
       "      <td>76</td>\n",
       "      <td>9</td>\n",
       "      <td>7</td>\n",
       "      <td>10</td>\n",
       "      <td>10</td>\n",
       "      <td>0.0</td>\n",
       "      <td>513.0</td>\n",
       "      <td>317</td>\n",
       "      <td>2409</td>\n",
       "      <td>True</td>\n",
       "      <td>OK</td>\n",
       "      <td>OK</td>\n",
       "      <td>True</td>\n",
       "      <td>N07DDA10101</td>\n",
       "      <td>98.3125</td>\n",
       "      <td>True</td>\n",
       "      <td>30995.0</td>\n",
       "      <td>0.0</td>\n",
       "      <td>2730.0</td>\n",
       "      <td>513.0</td>\n",
       "      <td>DANBRED</td>\n",
       "      <td>10</td>\n",
       "      <td>20.299999</td>\n",
       "      <td>10.6</td>\n",
       "    </tr>\n",
       "    <tr>\n",
       "      <th>1</th>\n",
       "      <td>140902</td>\n",
       "      <td>2020-01-03</td>\n",
       "      <td>1872</td>\n",
       "      <td>520ND19</td>\n",
       "      <td>CAL</td>\n",
       "      <td>68</td>\n",
       "      <td>55</td>\n",
       "      <td>357</td>\n",
       "      <td>61</td>\n",
       "      <td>9</td>\n",
       "      <td>7</td>\n",
       "      <td>9</td>\n",
       "      <td>9</td>\n",
       "      <td>0.0</td>\n",
       "      <td>390.0</td>\n",
       "      <td>357</td>\n",
       "      <td>2420</td>\n",
       "      <td>True</td>\n",
       "      <td>OK</td>\n",
       "      <td>OK</td>\n",
       "      <td>True</td>\n",
       "      <td>N07DDA10101</td>\n",
       "      <td>0.0000</td>\n",
       "      <td>True</td>\n",
       "      <td>30995.0</td>\n",
       "      <td>0.0</td>\n",
       "      <td>2730.0</td>\n",
       "      <td>390.0</td>\n",
       "      <td>DANBRED</td>\n",
       "      <td>9</td>\n",
       "      <td>20.299999</td>\n",
       "      <td>10.4</td>\n",
       "    </tr>\n",
       "    <tr>\n",
       "      <th>2</th>\n",
       "      <td>140903</td>\n",
       "      <td>2020-01-03</td>\n",
       "      <td>2094</td>\n",
       "      <td>620ND05</td>\n",
       "      <td>CAL</td>\n",
       "      <td>68</td>\n",
       "      <td>83</td>\n",
       "      <td>511</td>\n",
       "      <td>156</td>\n",
       "      <td>9</td>\n",
       "      <td>7</td>\n",
       "      <td>36</td>\n",
       "      <td>36</td>\n",
       "      <td>0.0</td>\n",
       "      <td>2477.0</td>\n",
       "      <td>511</td>\n",
       "      <td>2214</td>\n",
       "      <td>True</td>\n",
       "      <td>OK</td>\n",
       "      <td>OK</td>\n",
       "      <td>True</td>\n",
       "      <td>N07DDA10101</td>\n",
       "      <td>0.0000</td>\n",
       "      <td>True</td>\n",
       "      <td>30995.0</td>\n",
       "      <td>0.0</td>\n",
       "      <td>2730.0</td>\n",
       "      <td>2477.0</td>\n",
       "      <td>DANBRED</td>\n",
       "      <td>36</td>\n",
       "      <td>20.299999</td>\n",
       "      <td>10.5</td>\n",
       "    </tr>\n",
       "    <tr>\n",
       "      <th>3</th>\n",
       "      <td>140904</td>\n",
       "      <td>2020-01-03</td>\n",
       "      <td>2086</td>\n",
       "      <td>620ND96</td>\n",
       "      <td>CAL</td>\n",
       "      <td>68</td>\n",
       "      <td>78</td>\n",
       "      <td>497</td>\n",
       "      <td>134</td>\n",
       "      <td>9</td>\n",
       "      <td>8</td>\n",
       "      <td>30</td>\n",
       "      <td>30</td>\n",
       "      <td>0.0</td>\n",
       "      <td>1993.0</td>\n",
       "      <td>497</td>\n",
       "      <td>2220</td>\n",
       "      <td>True</td>\n",
       "      <td>OK</td>\n",
       "      <td>OK</td>\n",
       "      <td>True</td>\n",
       "      <td>N07DDA10101</td>\n",
       "      <td>0.0000</td>\n",
       "      <td>True</td>\n",
       "      <td>30995.0</td>\n",
       "      <td>0.0</td>\n",
       "      <td>2730.0</td>\n",
       "      <td>1993.0</td>\n",
       "      <td>DANBRED</td>\n",
       "      <td>30</td>\n",
       "      <td>20.299999</td>\n",
       "      <td>10.6</td>\n",
       "    </tr>\n",
       "    <tr>\n",
       "      <th>4</th>\n",
       "      <td>140905</td>\n",
       "      <td>2020-01-03</td>\n",
       "      <td>2470</td>\n",
       "      <td>807DP42</td>\n",
       "      <td>CAL</td>\n",
       "      <td>68</td>\n",
       "      <td>83</td>\n",
       "      <td>572</td>\n",
       "      <td>116</td>\n",
       "      <td>9</td>\n",
       "      <td>7</td>\n",
       "      <td>30</td>\n",
       "      <td>30</td>\n",
       "      <td>0.0</td>\n",
       "      <td>1918.0</td>\n",
       "      <td>572</td>\n",
       "      <td>2212</td>\n",
       "      <td>True</td>\n",
       "      <td>OK</td>\n",
       "      <td>OK</td>\n",
       "      <td>True</td>\n",
       "      <td>N07DPA10101</td>\n",
       "      <td>82.0000</td>\n",
       "      <td>True</td>\n",
       "      <td>30995.0</td>\n",
       "      <td>0.0</td>\n",
       "      <td>2730.0</td>\n",
       "      <td>1918.0</td>\n",
       "      <td>DUPIC</td>\n",
       "      <td>30</td>\n",
       "      <td>20.400000</td>\n",
       "      <td>9.6</td>\n",
       "    </tr>\n",
       "  </tbody>\n",
       "</table>\n",
       "</div>"
      ],
      "text/plain": [
       "   CODIGO  FECHA_REC  COD_VERRACO  VERRACO CENTRO  ANALIZADOR  RECOLECTOR  \\\n",
       "0  140901 2020-01-03         2095  620ND06    CAL          68          56   \n",
       "1  140902 2020-01-03         1872  520ND19    CAL          68          55   \n",
       "2  140903 2020-01-03         2094  620ND05    CAL          68          83   \n",
       "3  140904 2020-01-03         2086  620ND96    CAL          68          78   \n",
       "4  140905 2020-01-03         2470  807DP42    CAL          68          83   \n",
       "\n",
       "   VOLUMEN  CONCENTRACION  MOTILIDAD  CALIDAD_MOVIMIENTO  DOSIS_POTENCIAL  \\\n",
       "0      317             76          9                   7               10   \n",
       "1      357             61          9                   7                9   \n",
       "2      511            156          9                   7               36   \n",
       "3      497            134          9                   8               30   \n",
       "4      572            116          9                   7               30   \n",
       "\n",
       "   DOSIS_REAL  DOSIS_A_DILUIR  DILUYENTE  SEMEN_ANADIR  CONCENTRACION_REAL  \\\n",
       "0          10             0.0      513.0           317                2409   \n",
       "1           9             0.0      390.0           357                2420   \n",
       "2          36             0.0     2477.0           511                2214   \n",
       "3          30             0.0     1993.0           497                2220   \n",
       "4          30             0.0     1918.0           572                2212   \n",
       "\n",
       "  VALIDO MOTIVO_DESECHO MOTIVO_DIFERENCIA HETEROSPERMIA CODIGO_HETEROSPERMIA  \\\n",
       "0   True             OK                OK          True          N07DDA10101   \n",
       "1   True             OK                OK          True          N07DDA10101   \n",
       "2   True             OK                OK          True          N07DDA10101   \n",
       "3   True             OK                OK          True          N07DDA10101   \n",
       "4   True             OK                OK          True          N07DPA10101   \n",
       "\n",
       "   ENVASADAS  DILUIDO  BOLASER_BLANCO  BOLASER_MA  ID_DILUYENTE  ML_DILUYENTE  \\\n",
       "0    98.3125     True         30995.0         0.0        2730.0         513.0   \n",
       "1     0.0000     True         30995.0         0.0        2730.0         390.0   \n",
       "2     0.0000     True         30995.0         0.0        2730.0        2477.0   \n",
       "3     0.0000     True         30995.0         0.0        2730.0        1993.0   \n",
       "4    82.0000     True         30995.0         0.0        2730.0        1918.0   \n",
       "\n",
       "      RAZA  DOSIS DILUIDAS  TEMP_DILUYENTE  CONDUCTIVIDAD  \n",
       "0  DANBRED              10       20.299999           10.6  \n",
       "1  DANBRED               9       20.299999           10.4  \n",
       "2  DANBRED              36       20.299999           10.5  \n",
       "3  DANBRED              30       20.299999           10.6  \n",
       "4    DUPIC              30       20.400000            9.6  "
      ]
     },
     "execution_count": 3,
     "metadata": {},
     "output_type": "execute_result"
    }
   ],
   "source": [
    "df.head()"
   ]
  },
  {
   "cell_type": "code",
   "execution_count": 4,
   "metadata": {},
   "outputs": [],
   "source": [
    "pd.options.display.max_columns = None\n",
    "pd.options.display.max_rows = None\n",
    "\n",
    "desecho = pd.read_excel('MOTIVOS_DESECHO.xlsx')"
   ]
  },
  {
   "cell_type": "code",
   "execution_count": 5,
   "metadata": {},
   "outputs": [
    {
     "data": {
      "text/html": [
       "<div>\n",
       "<style scoped>\n",
       "    .dataframe tbody tr th:only-of-type {\n",
       "        vertical-align: middle;\n",
       "    }\n",
       "\n",
       "    .dataframe tbody tr th {\n",
       "        vertical-align: top;\n",
       "    }\n",
       "\n",
       "    .dataframe thead th {\n",
       "        text-align: right;\n",
       "    }\n",
       "</style>\n",
       "<table border=\"1\" class=\"dataframe\">\n",
       "  <thead>\n",
       "    <tr style=\"text-align: right;\">\n",
       "      <th></th>\n",
       "      <th>CODIGO</th>\n",
       "      <th>MOTIVO</th>\n",
       "      <th>INF_CLASES</th>\n",
       "    </tr>\n",
       "  </thead>\n",
       "  <tbody>\n",
       "    <tr>\n",
       "      <th>0</th>\n",
       "      <td>A</td>\n",
       "      <td>BAJA MOTILIDAD</td>\n",
       "      <td>False</td>\n",
       "    </tr>\n",
       "    <tr>\n",
       "      <th>1</th>\n",
       "      <td>B</td>\n",
       "      <td>FORMAS ANORMALES</td>\n",
       "      <td>False</td>\n",
       "    </tr>\n",
       "    <tr>\n",
       "      <th>2</th>\n",
       "      <td>C</td>\n",
       "      <td>MAL COLOR</td>\n",
       "      <td>False</td>\n",
       "    </tr>\n",
       "    <tr>\n",
       "      <th>3</th>\n",
       "      <td>D</td>\n",
       "      <td>MAL OLOR</td>\n",
       "      <td>False</td>\n",
       "    </tr>\n",
       "    <tr>\n",
       "      <th>4</th>\n",
       "      <td>E</td>\n",
       "      <td>SANGRE</td>\n",
       "      <td>False</td>\n",
       "    </tr>\n",
       "    <tr>\n",
       "      <th>5</th>\n",
       "      <td>F</td>\n",
       "      <td>NO DEMANDA</td>\n",
       "      <td>True</td>\n",
       "    </tr>\n",
       "    <tr>\n",
       "      <th>6</th>\n",
       "      <td>G</td>\n",
       "      <td>POCO VOLUMEN</td>\n",
       "      <td>False</td>\n",
       "    </tr>\n",
       "    <tr>\n",
       "      <th>7</th>\n",
       "      <td>H</td>\n",
       "      <td>BAJA CONCENTRACION</td>\n",
       "      <td>False</td>\n",
       "    </tr>\n",
       "    <tr>\n",
       "      <th>8</th>\n",
       "      <td>I</td>\n",
       "      <td>ANALITICA DE CONTROL</td>\n",
       "      <td>False</td>\n",
       "    </tr>\n",
       "    <tr>\n",
       "      <th>9</th>\n",
       "      <td>J</td>\n",
       "      <td>CAIDA DE VASO</td>\n",
       "      <td>False</td>\n",
       "    </tr>\n",
       "    <tr>\n",
       "      <th>10</th>\n",
       "      <td>K</td>\n",
       "      <td>ACCIDENTE</td>\n",
       "      <td>False</td>\n",
       "    </tr>\n",
       "    <tr>\n",
       "      <th>11</th>\n",
       "      <td>L</td>\n",
       "      <td>AZOOSPERMIA</td>\n",
       "      <td>False</td>\n",
       "    </tr>\n",
       "    <tr>\n",
       "      <th>12</th>\n",
       "      <td>M</td>\n",
       "      <td>SEMEN MUERTO</td>\n",
       "      <td>False</td>\n",
       "    </tr>\n",
       "    <tr>\n",
       "      <th>13</th>\n",
       "      <td>N</td>\n",
       "      <td>FIEBRE</td>\n",
       "      <td>False</td>\n",
       "    </tr>\n",
       "    <tr>\n",
       "      <th>14</th>\n",
       "      <td>O</td>\n",
       "      <td>AGLUTINACIÓN</td>\n",
       "      <td>False</td>\n",
       "    </tr>\n",
       "    <tr>\n",
       "      <th>15</th>\n",
       "      <td>P</td>\n",
       "      <td>SUCIEDAD</td>\n",
       "      <td>False</td>\n",
       "    </tr>\n",
       "    <tr>\n",
       "      <th>16</th>\n",
       "      <td>Q</td>\n",
       "      <td>ANALITICA SEMANAL</td>\n",
       "      <td>True</td>\n",
       "    </tr>\n",
       "    <tr>\n",
       "      <th>17</th>\n",
       "      <td>R</td>\n",
       "      <td>ANALITICA DE VALIDACION</td>\n",
       "      <td>False</td>\n",
       "    </tr>\n",
       "  </tbody>\n",
       "</table>\n",
       "</div>"
      ],
      "text/plain": [
       "   CODIGO                   MOTIVO  INF_CLASES\n",
       "0       A           BAJA MOTILIDAD       False\n",
       "1       B         FORMAS ANORMALES       False\n",
       "2       C                MAL COLOR       False\n",
       "3       D                 MAL OLOR       False\n",
       "4       E                   SANGRE       False\n",
       "5       F               NO DEMANDA        True\n",
       "6       G             POCO VOLUMEN       False\n",
       "7       H       BAJA CONCENTRACION       False\n",
       "8       I     ANALITICA DE CONTROL       False\n",
       "9       J            CAIDA DE VASO       False\n",
       "10      K                ACCIDENTE       False\n",
       "11      L              AZOOSPERMIA       False\n",
       "12      M             SEMEN MUERTO       False\n",
       "13      N                   FIEBRE       False\n",
       "14      O             AGLUTINACIÓN       False\n",
       "15      P                 SUCIEDAD       False\n",
       "16      Q        ANALITICA SEMANAL        True\n",
       "17      R  ANALITICA DE VALIDACION       False"
      ]
     },
     "execution_count": 5,
     "metadata": {},
     "output_type": "execute_result"
    }
   ],
   "source": [
    "desecho"
   ]
  },
  {
   "cell_type": "code",
   "execution_count": 6,
   "metadata": {},
   "outputs": [
    {
     "data": {
      "text/plain": [
       "array([True, False, nan, ..., '07455309', '0785301', '07455310'],\n",
       "      dtype=object)"
      ]
     },
     "execution_count": 6,
     "metadata": {},
     "output_type": "execute_result"
    }
   ],
   "source": [
    "df['HETEROSPERMIA'].unique()"
   ]
  },
  {
   "cell_type": "code",
   "execution_count": 7,
   "metadata": {},
   "outputs": [
    {
     "data": {
      "text/plain": [
       "array(['OK', 'I', 'F', 'A', 'B', 'L', 'H', 'G', 'K', 'O', 'M', 'E', 'J',\n",
       "       'R', 'Q', 'C', 'D', 'P', nan], dtype=object)"
      ]
     },
     "execution_count": 7,
     "metadata": {},
     "output_type": "execute_result"
    }
   ],
   "source": [
    " df['MOTIVO_DESECHO'].unique()"
   ]
  },
  {
   "cell_type": "code",
   "execution_count": 8,
   "metadata": {},
   "outputs": [
    {
     "data": {
      "text/plain": [
       "array(['OK', nan, False, True], dtype=object)"
      ]
     },
     "execution_count": 8,
     "metadata": {},
     "output_type": "execute_result"
    }
   ],
   "source": [
    "df['MOTIVO_DIFERENCIA'].unique()"
   ]
  },
  {
   "cell_type": "code",
   "execution_count": 9,
   "metadata": {},
   "outputs": [
    {
     "data": {
      "text/plain": [
       "array([True, False, 'I', 'OK', 'A', 'F', 'E', 'B', 'O', 'M', 'K', 'J',\n",
       "       'C', 'G', 'L', 'H', 'P', 'D'], dtype=object)"
      ]
     },
     "execution_count": 9,
     "metadata": {},
     "output_type": "execute_result"
    }
   ],
   "source": [
    "df['VALIDO'].unique()"
   ]
  },
  {
   "cell_type": "code",
   "execution_count": 10,
   "metadata": {},
   "outputs": [
    {
     "data": {
      "text/html": [
       "<div>\n",
       "<style scoped>\n",
       "    .dataframe tbody tr th:only-of-type {\n",
       "        vertical-align: middle;\n",
       "    }\n",
       "\n",
       "    .dataframe tbody tr th {\n",
       "        vertical-align: top;\n",
       "    }\n",
       "\n",
       "    .dataframe thead th {\n",
       "        text-align: right;\n",
       "    }\n",
       "</style>\n",
       "<table border=\"1\" class=\"dataframe\">\n",
       "  <thead>\n",
       "    <tr style=\"text-align: right;\">\n",
       "      <th></th>\n",
       "      <th>CODIGO</th>\n",
       "      <th>FECHA_REC</th>\n",
       "      <th>COD_VERRACO</th>\n",
       "      <th>VERRACO</th>\n",
       "      <th>CENTRO</th>\n",
       "      <th>ANALIZADOR</th>\n",
       "      <th>RECOLECTOR</th>\n",
       "      <th>VOLUMEN</th>\n",
       "      <th>CONCENTRACION</th>\n",
       "      <th>MOTILIDAD</th>\n",
       "      <th>CALIDAD_MOVIMIENTO</th>\n",
       "      <th>DOSIS_POTENCIAL</th>\n",
       "      <th>DOSIS_REAL</th>\n",
       "      <th>DOSIS_A_DILUIR</th>\n",
       "      <th>DILUYENTE</th>\n",
       "      <th>SEMEN_ANADIR</th>\n",
       "      <th>CONCENTRACION_REAL</th>\n",
       "      <th>VALIDO</th>\n",
       "      <th>MOTIVO_DESECHO</th>\n",
       "      <th>MOTIVO_DIFERENCIA</th>\n",
       "      <th>HETEROSPERMIA</th>\n",
       "      <th>CODIGO_HETEROSPERMIA</th>\n",
       "      <th>ENVASADAS</th>\n",
       "      <th>DILUIDO</th>\n",
       "      <th>BOLASER_BLANCO</th>\n",
       "      <th>BOLASER_MA</th>\n",
       "      <th>ID_DILUYENTE</th>\n",
       "      <th>ML_DILUYENTE</th>\n",
       "      <th>RAZA</th>\n",
       "      <th>DOSIS DILUIDAS</th>\n",
       "      <th>TEMP_DILUYENTE</th>\n",
       "      <th>CONDUCTIVIDAD</th>\n",
       "    </tr>\n",
       "  </thead>\n",
       "  <tbody>\n",
       "    <tr>\n",
       "      <th>103057</th>\n",
       "      <td>48524</td>\n",
       "      <td>2015-12-04</td>\n",
       "      <td>1774</td>\n",
       "      <td>407653</td>\n",
       "      <td>TOL</td>\n",
       "      <td>47</td>\n",
       "      <td>67</td>\n",
       "      <td>519</td>\n",
       "      <td>135</td>\n",
       "      <td>8</td>\n",
       "      <td>7</td>\n",
       "      <td>31</td>\n",
       "      <td>0</td>\n",
       "      <td>0.0</td>\n",
       "      <td>403.0</td>\n",
       "      <td>0</td>\n",
       "      <td>0</td>\n",
       "      <td>F</td>\n",
       "      <td>OK</td>\n",
       "      <td>False</td>\n",
       "      <td>NaN</td>\n",
       "      <td>0</td>\n",
       "      <td>0.0</td>\n",
       "      <td>False</td>\n",
       "      <td>0.0</td>\n",
       "      <td>0.0</td>\n",
       "      <td>0.0</td>\n",
       "      <td>0.0</td>\n",
       "      <td>0</td>\n",
       "      <td>0</td>\n",
       "      <td>NaN</td>\n",
       "      <td>NaN</td>\n",
       "    </tr>\n",
       "    <tr>\n",
       "      <th>103058</th>\n",
       "      <td>48525</td>\n",
       "      <td>2015-12-04</td>\n",
       "      <td>1775</td>\n",
       "      <td>407654</td>\n",
       "      <td>TOL</td>\n",
       "      <td>47</td>\n",
       "      <td>67</td>\n",
       "      <td>454</td>\n",
       "      <td>148</td>\n",
       "      <td>8</td>\n",
       "      <td>7</td>\n",
       "      <td>30</td>\n",
       "      <td>0</td>\n",
       "      <td>2006.0</td>\n",
       "      <td>454.0</td>\n",
       "      <td>2240</td>\n",
       "      <td>0</td>\n",
       "      <td>F</td>\n",
       "      <td>OK</td>\n",
       "      <td>False</td>\n",
       "      <td>NaN</td>\n",
       "      <td>0</td>\n",
       "      <td>0.0</td>\n",
       "      <td>False</td>\n",
       "      <td>0.0</td>\n",
       "      <td>0.0</td>\n",
       "      <td>0.0</td>\n",
       "      <td>0.0</td>\n",
       "      <td>0</td>\n",
       "      <td>0</td>\n",
       "      <td>NaN</td>\n",
       "      <td>NaN</td>\n",
       "    </tr>\n",
       "    <tr>\n",
       "      <th>103059</th>\n",
       "      <td>48526</td>\n",
       "      <td>2015-12-04</td>\n",
       "      <td>1983</td>\n",
       "      <td>507X09</td>\n",
       "      <td>TOL</td>\n",
       "      <td>47</td>\n",
       "      <td>67</td>\n",
       "      <td>448</td>\n",
       "      <td>95</td>\n",
       "      <td>8</td>\n",
       "      <td>8</td>\n",
       "      <td>19</td>\n",
       "      <td>0</td>\n",
       "      <td>0.0</td>\n",
       "      <td>454.0</td>\n",
       "      <td>0</td>\n",
       "      <td>0</td>\n",
       "      <td>F</td>\n",
       "      <td>OK</td>\n",
       "      <td>False</td>\n",
       "      <td>NaN</td>\n",
       "      <td>0</td>\n",
       "      <td>0.0</td>\n",
       "      <td>False</td>\n",
       "      <td>0.0</td>\n",
       "      <td>0.0</td>\n",
       "      <td>0.0</td>\n",
       "      <td>0.0</td>\n",
       "      <td>0</td>\n",
       "      <td>1</td>\n",
       "      <td>NaN</td>\n",
       "      <td>NaN</td>\n",
       "    </tr>\n",
       "    <tr>\n",
       "      <th>103061</th>\n",
       "      <td>48528</td>\n",
       "      <td>2015-12-04</td>\n",
       "      <td>1685</td>\n",
       "      <td>403624</td>\n",
       "      <td>TOL</td>\n",
       "      <td>47</td>\n",
       "      <td>67</td>\n",
       "      <td>487</td>\n",
       "      <td>103</td>\n",
       "      <td>8</td>\n",
       "      <td>7</td>\n",
       "      <td>22</td>\n",
       "      <td>0</td>\n",
       "      <td>0.0</td>\n",
       "      <td>454.0</td>\n",
       "      <td>0</td>\n",
       "      <td>0</td>\n",
       "      <td>F</td>\n",
       "      <td>OK</td>\n",
       "      <td>False</td>\n",
       "      <td>NaN</td>\n",
       "      <td>0</td>\n",
       "      <td>0.0</td>\n",
       "      <td>False</td>\n",
       "      <td>0.0</td>\n",
       "      <td>0.0</td>\n",
       "      <td>0.0</td>\n",
       "      <td>0.0</td>\n",
       "      <td>0</td>\n",
       "      <td>0</td>\n",
       "      <td>NaN</td>\n",
       "      <td>NaN</td>\n",
       "    </tr>\n",
       "    <tr>\n",
       "      <th>103425</th>\n",
       "      <td>39459</td>\n",
       "      <td>2015-07-14</td>\n",
       "      <td>1897</td>\n",
       "      <td>305DD09</td>\n",
       "      <td>PEÑAS</td>\n",
       "      <td>32</td>\n",
       "      <td>58</td>\n",
       "      <td>341</td>\n",
       "      <td>235</td>\n",
       "      <td>9</td>\n",
       "      <td>8</td>\n",
       "      <td>36</td>\n",
       "      <td>0</td>\n",
       "      <td>0.0</td>\n",
       "      <td>566.0</td>\n",
       "      <td>0</td>\n",
       "      <td>0</td>\n",
       "      <td>F</td>\n",
       "      <td>OK</td>\n",
       "      <td>False</td>\n",
       "      <td>NaN</td>\n",
       "      <td>0</td>\n",
       "      <td>0.0</td>\n",
       "      <td>False</td>\n",
       "      <td>0.0</td>\n",
       "      <td>0.0</td>\n",
       "      <td>0.0</td>\n",
       "      <td>0.0</td>\n",
       "      <td>0</td>\n",
       "      <td>0</td>\n",
       "      <td>NaN</td>\n",
       "      <td>NaN</td>\n",
       "    </tr>\n",
       "  </tbody>\n",
       "</table>\n",
       "</div>"
      ],
      "text/plain": [
       "        CODIGO  FECHA_REC  COD_VERRACO  VERRACO CENTRO  ANALIZADOR  \\\n",
       "103057   48524 2015-12-04         1774   407653    TOL          47   \n",
       "103058   48525 2015-12-04         1775   407654    TOL          47   \n",
       "103059   48526 2015-12-04         1983   507X09    TOL          47   \n",
       "103061   48528 2015-12-04         1685   403624    TOL          47   \n",
       "103425   39459 2015-07-14         1897  305DD09  PEÑAS          32   \n",
       "\n",
       "        RECOLECTOR  VOLUMEN  CONCENTRACION  MOTILIDAD  CALIDAD_MOVIMIENTO  \\\n",
       "103057          67      519            135          8                   7   \n",
       "103058          67      454            148          8                   7   \n",
       "103059          67      448             95          8                   8   \n",
       "103061          67      487            103          8                   7   \n",
       "103425          58      341            235          9                   8   \n",
       "\n",
       "        DOSIS_POTENCIAL  DOSIS_REAL  DOSIS_A_DILUIR  DILUYENTE  SEMEN_ANADIR  \\\n",
       "103057               31           0             0.0      403.0             0   \n",
       "103058               30           0          2006.0      454.0          2240   \n",
       "103059               19           0             0.0      454.0             0   \n",
       "103061               22           0             0.0      454.0             0   \n",
       "103425               36           0             0.0      566.0             0   \n",
       "\n",
       "        CONCENTRACION_REAL VALIDO MOTIVO_DESECHO MOTIVO_DIFERENCIA  \\\n",
       "103057                   0      F             OK             False   \n",
       "103058                   0      F             OK             False   \n",
       "103059                   0      F             OK             False   \n",
       "103061                   0      F             OK             False   \n",
       "103425                   0      F             OK             False   \n",
       "\n",
       "       HETEROSPERMIA CODIGO_HETEROSPERMIA  ENVASADAS  DILUIDO  BOLASER_BLANCO  \\\n",
       "103057           NaN                    0        0.0    False             0.0   \n",
       "103058           NaN                    0        0.0    False             0.0   \n",
       "103059           NaN                    0        0.0    False             0.0   \n",
       "103061           NaN                    0        0.0    False             0.0   \n",
       "103425           NaN                    0        0.0    False             0.0   \n",
       "\n",
       "        BOLASER_MA  ID_DILUYENTE  ML_DILUYENTE RAZA  DOSIS DILUIDAS  \\\n",
       "103057         0.0           0.0           0.0    0               0   \n",
       "103058         0.0           0.0           0.0    0               0   \n",
       "103059         0.0           0.0           0.0    0               1   \n",
       "103061         0.0           0.0           0.0    0               0   \n",
       "103425         0.0           0.0           0.0    0               0   \n",
       "\n",
       "        TEMP_DILUYENTE  CONDUCTIVIDAD  \n",
       "103057             NaN            NaN  \n",
       "103058             NaN            NaN  \n",
       "103059             NaN            NaN  \n",
       "103061             NaN            NaN  \n",
       "103425             NaN            NaN  "
      ]
     },
     "execution_count": 10,
     "metadata": {},
     "output_type": "execute_result"
    }
   ],
   "source": [
    "df[df['VALIDO'] == 'F'].head()"
   ]
  },
  {
   "cell_type": "code",
   "execution_count": 11,
   "metadata": {},
   "outputs": [
    {
     "data": {
      "text/plain": [
       "(9305, 32)"
      ]
     },
     "execution_count": 11,
     "metadata": {},
     "output_type": "execute_result"
    }
   ],
   "source": [
    "df[df['VALIDO'] == False].shape"
   ]
  },
  {
   "cell_type": "code",
   "execution_count": 12,
   "metadata": {},
   "outputs": [
    {
     "data": {
      "text/plain": [
       "(2214, 32)"
      ]
     },
     "execution_count": 12,
     "metadata": {},
     "output_type": "execute_result"
    }
   ],
   "source": [
    "df[df['MOTIVO_DESECHO'] == 'F'].shape"
   ]
  },
  {
   "cell_type": "code",
   "execution_count": 13,
   "metadata": {},
   "outputs": [],
   "source": [
    "experiencia_personal = df.groupby(['ANALIZADOR'])['MOTIVO_DESECHO'].count()"
   ]
  },
  {
   "cell_type": "code",
   "execution_count": 14,
   "metadata": {},
   "outputs": [
    {
     "data": {
      "text/plain": [
       "ANALIZADOR\n",
       "68    62130\n",
       "47    46329\n",
       "32    42649\n",
       "60      625\n",
       "51      530\n",
       "57      398\n",
       "31      326\n",
       "72      198\n",
       "59      176\n",
       "71      152\n",
       "79       34\n",
       "43       33\n",
       "69       30\n",
       "61       20\n",
       "58        7\n",
       "56        3\n",
       "81        2\n",
       "62        1\n",
       "55        1\n",
       "73        1\n",
       "38        1\n",
       "78        1\n",
       "Name: MOTIVO_DESECHO, dtype: int64"
      ]
     },
     "execution_count": 14,
     "metadata": {},
     "output_type": "execute_result"
    }
   ],
   "source": [
    "experiencia_personal.sort_values(ascending=False)"
   ]
  },
  {
   "cell_type": "code",
   "execution_count": 15,
   "metadata": {},
   "outputs": [],
   "source": [
    "personal = df.groupby(['ANALIZADOR', 'MOTIVO_DESECHO'])['MOTIVO_DESECHO'].count()"
   ]
  },
  {
   "cell_type": "code",
   "execution_count": 16,
   "metadata": {},
   "outputs": [
    {
     "data": {
      "text/plain": [
       "(79, 1)"
      ]
     },
     "execution_count": 16,
     "metadata": {},
     "output_type": "execute_result"
    }
   ],
   "source": [
    "personal = pd.DataFrame(personal)\n",
    "personal.shape"
   ]
  },
  {
   "cell_type": "code",
   "execution_count": 17,
   "metadata": {},
   "outputs": [
    {
     "data": {
      "text/html": [
       "<div>\n",
       "<style scoped>\n",
       "    .dataframe tbody tr th:only-of-type {\n",
       "        vertical-align: middle;\n",
       "    }\n",
       "\n",
       "    .dataframe tbody tr th {\n",
       "        vertical-align: top;\n",
       "    }\n",
       "\n",
       "    .dataframe thead th {\n",
       "        text-align: right;\n",
       "    }\n",
       "</style>\n",
       "<table border=\"1\" class=\"dataframe\">\n",
       "  <thead>\n",
       "    <tr style=\"text-align: right;\">\n",
       "      <th></th>\n",
       "      <th></th>\n",
       "      <th>FRECUENCIA</th>\n",
       "    </tr>\n",
       "    <tr>\n",
       "      <th>ANALIZADOR</th>\n",
       "      <th>MOTIVO_DESECHO</th>\n",
       "      <th></th>\n",
       "    </tr>\n",
       "  </thead>\n",
       "  <tbody>\n",
       "    <tr>\n",
       "      <th rowspan=\"4\" valign=\"top\">31</th>\n",
       "      <th>C</th>\n",
       "      <td>2</td>\n",
       "    </tr>\n",
       "    <tr>\n",
       "      <th>D</th>\n",
       "      <td>13</td>\n",
       "    </tr>\n",
       "    <tr>\n",
       "      <th>E</th>\n",
       "      <td>15</td>\n",
       "    </tr>\n",
       "    <tr>\n",
       "      <th>OK</th>\n",
       "      <td>296</td>\n",
       "    </tr>\n",
       "    <tr>\n",
       "      <th>32</th>\n",
       "      <th>A</th>\n",
       "      <td>147</td>\n",
       "    </tr>\n",
       "  </tbody>\n",
       "</table>\n",
       "</div>"
      ],
      "text/plain": [
       "                           FRECUENCIA\n",
       "ANALIZADOR MOTIVO_DESECHO            \n",
       "31         C                        2\n",
       "           D                       13\n",
       "           E                       15\n",
       "           OK                     296\n",
       "32         A                      147"
      ]
     },
     "execution_count": 17,
     "metadata": {},
     "output_type": "execute_result"
    }
   ],
   "source": [
    "personal.columns = ['FRECUENCIA']\n",
    "personal.head()"
   ]
  },
  {
   "cell_type": "markdown",
   "metadata": {},
   "source": [
    "**A partir de la tabla anteriormente obtenida se puede extrar información de los diferentes analizadores que posee la empresa**"
   ]
  },
  {
   "cell_type": "markdown",
   "metadata": {},
   "source": [
    "**Se me pide diferencias entre analizadores en Formas Anormales**"
   ]
  },
  {
   "cell_type": "code",
   "execution_count": 18,
   "metadata": {},
   "outputs": [],
   "source": [
    "formas_anormales = df[df['MOTIVO_DESECHO'] == 'F']"
   ]
  },
  {
   "cell_type": "code",
   "execution_count": 19,
   "metadata": {},
   "outputs": [
    {
     "data": {
      "text/html": [
       "<div>\n",
       "<style scoped>\n",
       "    .dataframe tbody tr th:only-of-type {\n",
       "        vertical-align: middle;\n",
       "    }\n",
       "\n",
       "    .dataframe tbody tr th {\n",
       "        vertical-align: top;\n",
       "    }\n",
       "\n",
       "    .dataframe thead th {\n",
       "        text-align: right;\n",
       "    }\n",
       "</style>\n",
       "<table border=\"1\" class=\"dataframe\">\n",
       "  <thead>\n",
       "    <tr style=\"text-align: right;\">\n",
       "      <th></th>\n",
       "      <th>CODIGO</th>\n",
       "      <th>FECHA_REC</th>\n",
       "      <th>COD_VERRACO</th>\n",
       "      <th>VERRACO</th>\n",
       "      <th>CENTRO</th>\n",
       "      <th>ANALIZADOR</th>\n",
       "      <th>RECOLECTOR</th>\n",
       "      <th>VOLUMEN</th>\n",
       "      <th>CONCENTRACION</th>\n",
       "      <th>MOTILIDAD</th>\n",
       "      <th>CALIDAD_MOVIMIENTO</th>\n",
       "      <th>DOSIS_POTENCIAL</th>\n",
       "      <th>DOSIS_REAL</th>\n",
       "      <th>DOSIS_A_DILUIR</th>\n",
       "      <th>DILUYENTE</th>\n",
       "      <th>SEMEN_ANADIR</th>\n",
       "      <th>CONCENTRACION_REAL</th>\n",
       "      <th>VALIDO</th>\n",
       "      <th>MOTIVO_DESECHO</th>\n",
       "      <th>MOTIVO_DIFERENCIA</th>\n",
       "      <th>HETEROSPERMIA</th>\n",
       "      <th>CODIGO_HETEROSPERMIA</th>\n",
       "      <th>ENVASADAS</th>\n",
       "      <th>DILUIDO</th>\n",
       "      <th>BOLASER_BLANCO</th>\n",
       "      <th>BOLASER_MA</th>\n",
       "      <th>ID_DILUYENTE</th>\n",
       "      <th>ML_DILUYENTE</th>\n",
       "      <th>RAZA</th>\n",
       "      <th>DOSIS DILUIDAS</th>\n",
       "      <th>TEMP_DILUYENTE</th>\n",
       "      <th>CONDUCTIVIDAD</th>\n",
       "    </tr>\n",
       "  </thead>\n",
       "  <tbody>\n",
       "    <tr>\n",
       "      <th>58</th>\n",
       "      <td>141364</td>\n",
       "      <td>2020-01-10</td>\n",
       "      <td>2535</td>\n",
       "      <td>907P70</td>\n",
       "      <td>TOL</td>\n",
       "      <td>68</td>\n",
       "      <td>67</td>\n",
       "      <td>674</td>\n",
       "      <td>126</td>\n",
       "      <td>9</td>\n",
       "      <td>7</td>\n",
       "      <td>38</td>\n",
       "      <td>0</td>\n",
       "      <td>0.0</td>\n",
       "      <td>0.0</td>\n",
       "      <td>446</td>\n",
       "      <td>0</td>\n",
       "      <td>False</td>\n",
       "      <td>F</td>\n",
       "      <td>OK</td>\n",
       "      <td>False</td>\n",
       "      <td>NaN</td>\n",
       "      <td>0.0</td>\n",
       "      <td>False</td>\n",
       "      <td>31265.0</td>\n",
       "      <td>0.0</td>\n",
       "      <td>0.0</td>\n",
       "      <td>0.0</td>\n",
       "      <td>TPPPPTOP</td>\n",
       "      <td>0</td>\n",
       "      <td>NaN</td>\n",
       "      <td>NaN</td>\n",
       "    </tr>\n",
       "    <tr>\n",
       "      <th>60</th>\n",
       "      <td>141366</td>\n",
       "      <td>2020-01-10</td>\n",
       "      <td>2527</td>\n",
       "      <td>907PG01</td>\n",
       "      <td>CAL</td>\n",
       "      <td>68</td>\n",
       "      <td>78</td>\n",
       "      <td>190</td>\n",
       "      <td>140</td>\n",
       "      <td>9</td>\n",
       "      <td>8</td>\n",
       "      <td>12</td>\n",
       "      <td>0</td>\n",
       "      <td>0.0</td>\n",
       "      <td>0.0</td>\n",
       "      <td>446</td>\n",
       "      <td>0</td>\n",
       "      <td>False</td>\n",
       "      <td>F</td>\n",
       "      <td>OK</td>\n",
       "      <td>False</td>\n",
       "      <td>NaN</td>\n",
       "      <td>0.0</td>\n",
       "      <td>False</td>\n",
       "      <td>31265.0</td>\n",
       "      <td>0.0</td>\n",
       "      <td>0.0</td>\n",
       "      <td>0.0</td>\n",
       "      <td>PI ALEM NP</td>\n",
       "      <td>0</td>\n",
       "      <td>NaN</td>\n",
       "      <td>NaN</td>\n",
       "    </tr>\n",
       "    <tr>\n",
       "      <th>61</th>\n",
       "      <td>141367</td>\n",
       "      <td>2020-01-10</td>\n",
       "      <td>2518</td>\n",
       "      <td>809D31</td>\n",
       "      <td>CAL</td>\n",
       "      <td>68</td>\n",
       "      <td>83</td>\n",
       "      <td>689</td>\n",
       "      <td>213</td>\n",
       "      <td>9</td>\n",
       "      <td>7</td>\n",
       "      <td>66</td>\n",
       "      <td>0</td>\n",
       "      <td>0.0</td>\n",
       "      <td>0.0</td>\n",
       "      <td>446</td>\n",
       "      <td>0</td>\n",
       "      <td>False</td>\n",
       "      <td>F</td>\n",
       "      <td>OK</td>\n",
       "      <td>False</td>\n",
       "      <td>NaN</td>\n",
       "      <td>0.0</td>\n",
       "      <td>False</td>\n",
       "      <td>31265.0</td>\n",
       "      <td>0.0</td>\n",
       "      <td>0.0</td>\n",
       "      <td>0.0</td>\n",
       "      <td>TDDDD</td>\n",
       "      <td>0</td>\n",
       "      <td>NaN</td>\n",
       "      <td>NaN</td>\n",
       "    </tr>\n",
       "    <tr>\n",
       "      <th>63</th>\n",
       "      <td>141369</td>\n",
       "      <td>2020-01-10</td>\n",
       "      <td>2477</td>\n",
       "      <td>807DG21</td>\n",
       "      <td>CAL</td>\n",
       "      <td>68</td>\n",
       "      <td>78</td>\n",
       "      <td>593</td>\n",
       "      <td>78</td>\n",
       "      <td>9</td>\n",
       "      <td>8</td>\n",
       "      <td>21</td>\n",
       "      <td>0</td>\n",
       "      <td>0.0</td>\n",
       "      <td>0.0</td>\n",
       "      <td>719</td>\n",
       "      <td>0</td>\n",
       "      <td>False</td>\n",
       "      <td>F</td>\n",
       "      <td>OK</td>\n",
       "      <td>False</td>\n",
       "      <td>NaN</td>\n",
       "      <td>0.0</td>\n",
       "      <td>False</td>\n",
       "      <td>31265.0</td>\n",
       "      <td>0.0</td>\n",
       "      <td>0.0</td>\n",
       "      <td>0.0</td>\n",
       "      <td>DURGENG</td>\n",
       "      <td>0</td>\n",
       "      <td>NaN</td>\n",
       "      <td>NaN</td>\n",
       "    </tr>\n",
       "    <tr>\n",
       "      <th>178</th>\n",
       "      <td>141003</td>\n",
       "      <td>2020-01-03</td>\n",
       "      <td>2558</td>\n",
       "      <td>903P57</td>\n",
       "      <td>TOL</td>\n",
       "      <td>68</td>\n",
       "      <td>67</td>\n",
       "      <td>758</td>\n",
       "      <td>89</td>\n",
       "      <td>9</td>\n",
       "      <td>7</td>\n",
       "      <td>30</td>\n",
       "      <td>0</td>\n",
       "      <td>0.0</td>\n",
       "      <td>0.0</td>\n",
       "      <td>0</td>\n",
       "      <td>0</td>\n",
       "      <td>False</td>\n",
       "      <td>F</td>\n",
       "      <td>OK</td>\n",
       "      <td>False</td>\n",
       "      <td>NaN</td>\n",
       "      <td>0.0</td>\n",
       "      <td>False</td>\n",
       "      <td>31139.0</td>\n",
       "      <td>0.0</td>\n",
       "      <td>0.0</td>\n",
       "      <td>0.0</td>\n",
       "      <td>TPPPPELI</td>\n",
       "      <td>0</td>\n",
       "      <td>NaN</td>\n",
       "      <td>NaN</td>\n",
       "    </tr>\n",
       "  </tbody>\n",
       "</table>\n",
       "</div>"
      ],
      "text/plain": [
       "     CODIGO  FECHA_REC  COD_VERRACO  VERRACO CENTRO  ANALIZADOR  RECOLECTOR  \\\n",
       "58   141364 2020-01-10         2535   907P70    TOL          68          67   \n",
       "60   141366 2020-01-10         2527  907PG01    CAL          68          78   \n",
       "61   141367 2020-01-10         2518   809D31    CAL          68          83   \n",
       "63   141369 2020-01-10         2477  807DG21    CAL          68          78   \n",
       "178  141003 2020-01-03         2558   903P57    TOL          68          67   \n",
       "\n",
       "     VOLUMEN  CONCENTRACION  MOTILIDAD  CALIDAD_MOVIMIENTO  DOSIS_POTENCIAL  \\\n",
       "58       674            126          9                   7               38   \n",
       "60       190            140          9                   8               12   \n",
       "61       689            213          9                   7               66   \n",
       "63       593             78          9                   8               21   \n",
       "178      758             89          9                   7               30   \n",
       "\n",
       "     DOSIS_REAL  DOSIS_A_DILUIR  DILUYENTE  SEMEN_ANADIR  CONCENTRACION_REAL  \\\n",
       "58            0             0.0        0.0           446                   0   \n",
       "60            0             0.0        0.0           446                   0   \n",
       "61            0             0.0        0.0           446                   0   \n",
       "63            0             0.0        0.0           719                   0   \n",
       "178           0             0.0        0.0             0                   0   \n",
       "\n",
       "    VALIDO MOTIVO_DESECHO MOTIVO_DIFERENCIA HETEROSPERMIA  \\\n",
       "58   False              F                OK         False   \n",
       "60   False              F                OK         False   \n",
       "61   False              F                OK         False   \n",
       "63   False              F                OK         False   \n",
       "178  False              F                OK         False   \n",
       "\n",
       "    CODIGO_HETEROSPERMIA  ENVASADAS  DILUIDO  BOLASER_BLANCO  BOLASER_MA  \\\n",
       "58                   NaN        0.0    False         31265.0         0.0   \n",
       "60                   NaN        0.0    False         31265.0         0.0   \n",
       "61                   NaN        0.0    False         31265.0         0.0   \n",
       "63                   NaN        0.0    False         31265.0         0.0   \n",
       "178                  NaN        0.0    False         31139.0         0.0   \n",
       "\n",
       "     ID_DILUYENTE  ML_DILUYENTE        RAZA  DOSIS DILUIDAS  TEMP_DILUYENTE  \\\n",
       "58            0.0           0.0    TPPPPTOP               0             NaN   \n",
       "60            0.0           0.0  PI ALEM NP               0             NaN   \n",
       "61            0.0           0.0       TDDDD               0             NaN   \n",
       "63            0.0           0.0     DURGENG               0             NaN   \n",
       "178           0.0           0.0    TPPPPELI               0             NaN   \n",
       "\n",
       "     CONDUCTIVIDAD  \n",
       "58             NaN  \n",
       "60             NaN  \n",
       "61             NaN  \n",
       "63             NaN  \n",
       "178            NaN  "
      ]
     },
     "execution_count": 19,
     "metadata": {},
     "output_type": "execute_result"
    }
   ],
   "source": [
    "formas_anormales.head()"
   ]
  },
  {
   "cell_type": "code",
   "execution_count": 20,
   "metadata": {},
   "outputs": [
    {
     "data": {
      "text/plain": [
       "array([68, 32, 47, 79])"
      ]
     },
     "execution_count": 20,
     "metadata": {},
     "output_type": "execute_result"
    }
   ],
   "source": [
    "formas_anormales['ANALIZADOR'].unique()"
   ]
  },
  {
   "cell_type": "code",
   "execution_count": 21,
   "metadata": {},
   "outputs": [
    {
     "data": {
      "text/plain": [
       "68    1498\n",
       "47     363\n",
       "32     349\n",
       "79       4\n",
       "Name: ANALIZADOR, dtype: int64"
      ]
     },
     "execution_count": 21,
     "metadata": {},
     "output_type": "execute_result"
    }
   ],
   "source": [
    "formas_anormales['ANALIZADOR'].value_counts()"
   ]
  },
  {
   "cell_type": "code",
   "execution_count": 22,
   "metadata": {},
   "outputs": [
    {
     "data": {
      "text/plain": [
       "VERRACO  ANALIZADOR\n",
       "007D19   68            1\n",
       "007D20   32            1\n",
       "         68            1\n",
       "007D21   68            1\n",
       "007D22   68            2\n",
       "Name: ANALIZADOR, dtype: int64"
      ]
     },
     "execution_count": 22,
     "metadata": {},
     "output_type": "execute_result"
    }
   ],
   "source": [
    "formas_anormales.groupby(['VERRACO', 'ANALIZADOR'])['ANALIZADOR'].count().head()"
   ]
  },
  {
   "cell_type": "markdown",
   "metadata": {},
   "source": [
    "**Se puede calcular cuantas formas anormales encuentran los analizadores entre el total de muestras analizadas**"
   ]
  },
  {
   "cell_type": "code",
   "execution_count": 23,
   "metadata": {},
   "outputs": [],
   "source": [
    "lista2 = df['ANALIZADOR'].value_counts()"
   ]
  },
  {
   "cell_type": "code",
   "execution_count": 24,
   "metadata": {},
   "outputs": [
    {
     "data": {
      "text/plain": [
       "68    1498\n",
       "47     363\n",
       "32     349\n",
       "79       4\n",
       "Name: ANALIZADOR, dtype: int64"
      ]
     },
     "execution_count": 24,
     "metadata": {},
     "output_type": "execute_result"
    }
   ],
   "source": [
    "lista1 = formas_anormales['ANALIZADOR'].value_counts()\n",
    "lista1"
   ]
  },
  {
   "cell_type": "code",
   "execution_count": 25,
   "metadata": {},
   "outputs": [
    {
     "data": {
      "text/plain": [
       "68    62134\n",
       "47    46347\n",
       "32    42655\n",
       "60      642\n",
       "51      530\n",
       "Name: ANALIZADOR, dtype: int64"
      ]
     },
     "execution_count": 25,
     "metadata": {},
     "output_type": "execute_result"
    }
   ],
   "source": [
    "lista2.head()"
   ]
  },
  {
   "cell_type": "code",
   "execution_count": 26,
   "metadata": {},
   "outputs": [
    {
     "name": "stdout",
     "output_type": "stream",
     "text": [
      "El analizador 68 detecta 0.024109183377860752 formas anormales por cada detección realizada\n",
      "El analizador 68 ha realizado 62134 análisis\n",
      " \n",
      "El analizador 47 detecta 0.00783222215030099 formas anormales por cada detección realizada\n",
      "El analizador 47 ha realizado 46347 análisis\n",
      " \n",
      "El analizador 32 detecta 0.008181924745047474 formas anormales por cada detección realizada\n",
      "El analizador 32 ha realizado 42655 análisis\n",
      " \n",
      "El analizador 79 detecta 0.11764705882352941 formas anormales por cada detección realizada\n",
      "El analizador 79 ha realizado 34 análisis\n",
      " \n"
     ]
    }
   ],
   "source": [
    "for i in range(len(lista1)):\n",
    "    #print(lista2.iloc[np.where(lista1.index[i] == lista2.index)].index[0])\n",
    "    #print(lista2.iloc[np.where(lista1.index[i] == lista2.index)].iloc[0])\n",
    "    #print(lista1.iloc[i])\n",
    "    sol = lista1.iloc[i] / lista2.iloc[np.where(lista1.index[i] == lista2.index)].iloc[0]\n",
    "    print(\"El analizador\", lista2.iloc[np.where(lista1.index[i] == lista2.index)].index[0], \"detecta\", sol, \"formas anormales por cada detección realizada\")\n",
    "    print(\"El analizador\", lista2.iloc[np.where(lista1.index[i] == lista2.index)].index[0], \"ha realizado\", lista2.iloc[np.where(lista1.index[i] == lista2.index)].iloc[0], \"análisis\")\n",
    "    print(' ')"
   ]
  },
  {
   "cell_type": "markdown",
   "metadata": {},
   "source": [
    "**Se podría hacer una tabla que contenga la información de cada analizador: dosis analizadas, % de veces que detecta las diferentes anomalias (formas anormales y constratación seminal), cuantas veces desecha una dosis, cuantas las considera buenas, etc** "
   ]
  },
  {
   "cell_type": "markdown",
   "metadata": {},
   "source": [
    "**En la variable lista2 tenemos todos los analizadores con sus numeros y sus dosis analaizadas**"
   ]
  },
  {
   "cell_type": "code",
   "execution_count": 27,
   "metadata": {},
   "outputs": [
    {
     "data": {
      "text/plain": [
       "68    62134\n",
       "47    46347\n",
       "32    42655\n",
       "60      642\n",
       "51      530\n",
       "Name: ANALIZADOR, dtype: int64"
      ]
     },
     "execution_count": 27,
     "metadata": {},
     "output_type": "execute_result"
    }
   ],
   "source": [
    "lista2.head()"
   ]
  },
  {
   "cell_type": "code",
   "execution_count": 28,
   "metadata": {},
   "outputs": [],
   "source": [
    "df_analizadores = pd.DataFrame(columns = ['ANALIZADOR', 'DOSIS_ANALIZADAS', 'DOSIS_RECHAZADAS', 'DOSIS_ADMITIDAS', 'RECHAZO_FORMAS_ANORMALES', '%RECHAZADAS', '%FORMAS_ANORMALES', 'FORMAS_ANORMALES/ANALIZADAS', 'MEDIA_MOTILIDAD', 'MEDIA_CALIDAD_MOVIMIENTO'])"
   ]
  },
  {
   "cell_type": "markdown",
   "metadata": {},
   "source": [
    "**Con este bucle rellenamos el dataframe llamado df_analizadores con información acerca del tratamiento de las dosis realziadas por cada empleado**"
   ]
  },
  {
   "cell_type": "code",
   "execution_count": 29,
   "metadata": {},
   "outputs": [
    {
     "name": "stderr",
     "output_type": "stream",
     "text": [
      "/home/dsc/anaconda3/lib/python3.7/site-packages/ipykernel_launcher.py:26: RuntimeWarning: invalid value encountered in long_scalars\n"
     ]
    }
   ],
   "source": [
    "for i in range(len(lista2)):    \n",
    "    #Cogemos el primer indice\n",
    "    numero = lista2.index[i]\n",
    "\n",
    "    #Cogemos el valor de dosis procesadas por el primer analizador\n",
    "    dosisanalizadas = lista2.iloc[i]\n",
    "\n",
    "    #Eliminamos las dosis que hayan sido buenas, clasificadas con TRUE o OK en la columna VALIDO\n",
    "    temp1 = df[df['ANALIZADOR'] == numero]\n",
    "    temp2 = temp1[temp1['VALIDO'] != True]\n",
    "    temp3 = temp2[temp2['VALIDO'] != 'OK']\n",
    "\n",
    "    #Contamos el numero de veces que dicho analizador ha rechazado una dosis\n",
    "    dosisrechazadas = temp3['ANALIZADOR'].count()\n",
    "\n",
    "    #Nos quedamos ahora con las dosis admitidas\n",
    "    dosisadmitidas = dosisanalizadas - dosisrechazadas\n",
    "\n",
    "    #Ahora queremos sacar las rechazadas por Formas Anormales\n",
    "    validoF = temp1[temp1['VALIDO'] == 'F'].shape[0]\n",
    "    motivodesechoF = temp1[temp1['MOTIVO_DESECHO'] == 'F'].shape[0]\n",
    "    formasanormales = validoF + motivodesechoF\n",
    "\n",
    "    #Finalmente calculo el % que suponen las rechazadas del total y el % que suponen las formas anormales de las rechazadas en total\n",
    "    porcentajerechazadas = (dosisrechazadas*100)/dosisanalizadas\n",
    "    porcentajeformasanormales = (formasanormales*100)/dosisrechazadas\n",
    "    \n",
    "    #Calculamos la media de los valores de MOTILIDAD y CALIDAD DE MOVIMIENTO que los diferentes analizadores han asignado\n",
    "    mediamotilidad = temp1['MOTILIDAD'].mean()\n",
    "    mediacalidadmovimiento = temp1['CALIDAD_MOVIMIENTO'].mean()\n",
    "    \n",
    "    #Calculamos tambien el ratio de dosis rechazadas por formas anormales entre todas las dosis rechazadas\n",
    "    ratioformasanormales = formasanormales/dosisanalizadas\n",
    "    \n",
    "    #Alamcenamos la información en un diccionario y lo guardamos en un DataFrame\n",
    "    df_analizadores = df_analizadores.append({'ANALIZADOR': numero, 'DOSIS_ANALIZADAS': dosisanalizadas, 'DOSIS_RECHAZADAS': dosisrechazadas, 'DOSIS_ADMITIDAS': dosisadmitidas, 'RECHAZO_FORMAS_ANORMALES': formasanormales, '%RECHAZADAS': porcentajerechazadas, '%FORMAS_ANORMALES': porcentajeformasanormales, 'FORMAS_ANORMALES/ANALIZADAS': ratioformasanormales,'MEDIA_MOTILIDAD': mediamotilidad, 'MEDIA_CALIDAD_MOVIMIENTO': mediacalidadmovimiento}, ignore_index=True)\n"
   ]
  },
  {
   "cell_type": "code",
   "execution_count": 39,
   "metadata": {},
   "outputs": [],
   "source": [
    "df_analizadores = df_analizadores.fillna(0)"
   ]
  },
  {
   "cell_type": "code",
   "execution_count": 40,
   "metadata": {},
   "outputs": [
    {
     "data": {
      "text/html": [
       "<div>\n",
       "<style scoped>\n",
       "    .dataframe tbody tr th:only-of-type {\n",
       "        vertical-align: middle;\n",
       "    }\n",
       "\n",
       "    .dataframe tbody tr th {\n",
       "        vertical-align: top;\n",
       "    }\n",
       "\n",
       "    .dataframe thead th {\n",
       "        text-align: right;\n",
       "    }\n",
       "</style>\n",
       "<table border=\"1\" class=\"dataframe\">\n",
       "  <thead>\n",
       "    <tr style=\"text-align: right;\">\n",
       "      <th></th>\n",
       "      <th>ANALIZADOR</th>\n",
       "      <th>DOSIS_ANALIZADAS</th>\n",
       "      <th>DOSIS_RECHAZADAS</th>\n",
       "      <th>DOSIS_ADMITIDAS</th>\n",
       "      <th>RECHAZO_FORMAS_ANORMALES</th>\n",
       "      <th>%RECHAZADAS</th>\n",
       "      <th>%FORMAS_ANORMALES</th>\n",
       "      <th>FORMAS_ANORMALES/ANALIZADAS</th>\n",
       "      <th>MEDIA_MOTILIDAD</th>\n",
       "      <th>MEDIA_CALIDAD_MOVIMIENTO</th>\n",
       "    </tr>\n",
       "  </thead>\n",
       "  <tbody>\n",
       "    <tr>\n",
       "      <th>0</th>\n",
       "      <td>68.0</td>\n",
       "      <td>62134.0</td>\n",
       "      <td>5258.0</td>\n",
       "      <td>56876.0</td>\n",
       "      <td>1498.0</td>\n",
       "      <td>8.462356</td>\n",
       "      <td>28.489920</td>\n",
       "      <td>0.024109</td>\n",
       "      <td>8.679547</td>\n",
       "      <td>7.157772</td>\n",
       "    </tr>\n",
       "    <tr>\n",
       "      <th>1</th>\n",
       "      <td>47.0</td>\n",
       "      <td>46347.0</td>\n",
       "      <td>3004.0</td>\n",
       "      <td>43343.0</td>\n",
       "      <td>462.0</td>\n",
       "      <td>6.481541</td>\n",
       "      <td>15.379494</td>\n",
       "      <td>0.009968</td>\n",
       "      <td>8.287721</td>\n",
       "      <td>7.673916</td>\n",
       "    </tr>\n",
       "    <tr>\n",
       "      <th>2</th>\n",
       "      <td>32.0</td>\n",
       "      <td>42655.0</td>\n",
       "      <td>3862.0</td>\n",
       "      <td>38793.0</td>\n",
       "      <td>435.0</td>\n",
       "      <td>9.054038</td>\n",
       "      <td>11.263594</td>\n",
       "      <td>0.010198</td>\n",
       "      <td>8.085523</td>\n",
       "      <td>7.509342</td>\n",
       "    </tr>\n",
       "    <tr>\n",
       "      <th>3</th>\n",
       "      <td>60.0</td>\n",
       "      <td>642.0</td>\n",
       "      <td>69.0</td>\n",
       "      <td>573.0</td>\n",
       "      <td>1.0</td>\n",
       "      <td>10.747664</td>\n",
       "      <td>1.449275</td>\n",
       "      <td>0.001558</td>\n",
       "      <td>8.158879</td>\n",
       "      <td>7.633956</td>\n",
       "    </tr>\n",
       "    <tr>\n",
       "      <th>4</th>\n",
       "      <td>51.0</td>\n",
       "      <td>530.0</td>\n",
       "      <td>105.0</td>\n",
       "      <td>425.0</td>\n",
       "      <td>0.0</td>\n",
       "      <td>19.811321</td>\n",
       "      <td>0.000000</td>\n",
       "      <td>0.000000</td>\n",
       "      <td>7.643396</td>\n",
       "      <td>7.616981</td>\n",
       "    </tr>\n",
       "    <tr>\n",
       "      <th>5</th>\n",
       "      <td>57.0</td>\n",
       "      <td>398.0</td>\n",
       "      <td>42.0</td>\n",
       "      <td>356.0</td>\n",
       "      <td>0.0</td>\n",
       "      <td>10.552764</td>\n",
       "      <td>0.000000</td>\n",
       "      <td>0.000000</td>\n",
       "      <td>7.793970</td>\n",
       "      <td>7.585427</td>\n",
       "    </tr>\n",
       "    <tr>\n",
       "      <th>6</th>\n",
       "      <td>31.0</td>\n",
       "      <td>331.0</td>\n",
       "      <td>54.0</td>\n",
       "      <td>277.0</td>\n",
       "      <td>2.0</td>\n",
       "      <td>16.314199</td>\n",
       "      <td>3.703704</td>\n",
       "      <td>0.006042</td>\n",
       "      <td>7.812689</td>\n",
       "      <td>7.356495</td>\n",
       "    </tr>\n",
       "    <tr>\n",
       "      <th>7</th>\n",
       "      <td>72.0</td>\n",
       "      <td>199.0</td>\n",
       "      <td>36.0</td>\n",
       "      <td>163.0</td>\n",
       "      <td>0.0</td>\n",
       "      <td>18.090452</td>\n",
       "      <td>0.000000</td>\n",
       "      <td>0.000000</td>\n",
       "      <td>7.512563</td>\n",
       "      <td>6.587940</td>\n",
       "    </tr>\n",
       "    <tr>\n",
       "      <th>8</th>\n",
       "      <td>59.0</td>\n",
       "      <td>176.0</td>\n",
       "      <td>69.0</td>\n",
       "      <td>107.0</td>\n",
       "      <td>0.0</td>\n",
       "      <td>39.204545</td>\n",
       "      <td>0.000000</td>\n",
       "      <td>0.000000</td>\n",
       "      <td>7.357955</td>\n",
       "      <td>6.914773</td>\n",
       "    </tr>\n",
       "    <tr>\n",
       "      <th>9</th>\n",
       "      <td>71.0</td>\n",
       "      <td>152.0</td>\n",
       "      <td>52.0</td>\n",
       "      <td>100.0</td>\n",
       "      <td>0.0</td>\n",
       "      <td>34.210526</td>\n",
       "      <td>0.000000</td>\n",
       "      <td>0.000000</td>\n",
       "      <td>7.407895</td>\n",
       "      <td>6.256579</td>\n",
       "    </tr>\n",
       "    <tr>\n",
       "      <th>10</th>\n",
       "      <td>79.0</td>\n",
       "      <td>34.0</td>\n",
       "      <td>29.0</td>\n",
       "      <td>5.0</td>\n",
       "      <td>4.0</td>\n",
       "      <td>85.294118</td>\n",
       "      <td>13.793103</td>\n",
       "      <td>0.117647</td>\n",
       "      <td>7.411765</td>\n",
       "      <td>7.176471</td>\n",
       "    </tr>\n",
       "    <tr>\n",
       "      <th>11</th>\n",
       "      <td>43.0</td>\n",
       "      <td>34.0</td>\n",
       "      <td>4.0</td>\n",
       "      <td>30.0</td>\n",
       "      <td>1.0</td>\n",
       "      <td>11.764706</td>\n",
       "      <td>25.000000</td>\n",
       "      <td>0.029412</td>\n",
       "      <td>7.823529</td>\n",
       "      <td>7.352941</td>\n",
       "    </tr>\n",
       "    <tr>\n",
       "      <th>12</th>\n",
       "      <td>69.0</td>\n",
       "      <td>30.0</td>\n",
       "      <td>3.0</td>\n",
       "      <td>27.0</td>\n",
       "      <td>0.0</td>\n",
       "      <td>10.000000</td>\n",
       "      <td>0.000000</td>\n",
       "      <td>0.000000</td>\n",
       "      <td>8.233333</td>\n",
       "      <td>6.866667</td>\n",
       "    </tr>\n",
       "    <tr>\n",
       "      <th>13</th>\n",
       "      <td>61.0</td>\n",
       "      <td>20.0</td>\n",
       "      <td>0.0</td>\n",
       "      <td>20.0</td>\n",
       "      <td>0.0</td>\n",
       "      <td>0.000000</td>\n",
       "      <td>0.000000</td>\n",
       "      <td>0.000000</td>\n",
       "      <td>8.900000</td>\n",
       "      <td>7.350000</td>\n",
       "    </tr>\n",
       "    <tr>\n",
       "      <th>14</th>\n",
       "      <td>58.0</td>\n",
       "      <td>7.0</td>\n",
       "      <td>1.0</td>\n",
       "      <td>6.0</td>\n",
       "      <td>0.0</td>\n",
       "      <td>14.285714</td>\n",
       "      <td>0.000000</td>\n",
       "      <td>0.000000</td>\n",
       "      <td>8.714286</td>\n",
       "      <td>7.285714</td>\n",
       "    </tr>\n",
       "    <tr>\n",
       "      <th>15</th>\n",
       "      <td>56.0</td>\n",
       "      <td>3.0</td>\n",
       "      <td>0.0</td>\n",
       "      <td>3.0</td>\n",
       "      <td>0.0</td>\n",
       "      <td>0.000000</td>\n",
       "      <td>0.000000</td>\n",
       "      <td>0.000000</td>\n",
       "      <td>8.333333</td>\n",
       "      <td>7.333333</td>\n",
       "    </tr>\n",
       "    <tr>\n",
       "      <th>16</th>\n",
       "      <td>81.0</td>\n",
       "      <td>2.0</td>\n",
       "      <td>0.0</td>\n",
       "      <td>2.0</td>\n",
       "      <td>0.0</td>\n",
       "      <td>0.000000</td>\n",
       "      <td>0.000000</td>\n",
       "      <td>0.000000</td>\n",
       "      <td>9.000000</td>\n",
       "      <td>7.500000</td>\n",
       "    </tr>\n",
       "    <tr>\n",
       "      <th>17</th>\n",
       "      <td>62.0</td>\n",
       "      <td>1.0</td>\n",
       "      <td>0.0</td>\n",
       "      <td>1.0</td>\n",
       "      <td>0.0</td>\n",
       "      <td>0.000000</td>\n",
       "      <td>0.000000</td>\n",
       "      <td>0.000000</td>\n",
       "      <td>8.000000</td>\n",
       "      <td>8.000000</td>\n",
       "    </tr>\n",
       "    <tr>\n",
       "      <th>18</th>\n",
       "      <td>55.0</td>\n",
       "      <td>1.0</td>\n",
       "      <td>0.0</td>\n",
       "      <td>1.0</td>\n",
       "      <td>0.0</td>\n",
       "      <td>0.000000</td>\n",
       "      <td>0.000000</td>\n",
       "      <td>0.000000</td>\n",
       "      <td>8.000000</td>\n",
       "      <td>8.000000</td>\n",
       "    </tr>\n",
       "    <tr>\n",
       "      <th>19</th>\n",
       "      <td>73.0</td>\n",
       "      <td>1.0</td>\n",
       "      <td>0.0</td>\n",
       "      <td>1.0</td>\n",
       "      <td>0.0</td>\n",
       "      <td>0.000000</td>\n",
       "      <td>0.000000</td>\n",
       "      <td>0.000000</td>\n",
       "      <td>8.000000</td>\n",
       "      <td>8.000000</td>\n",
       "    </tr>\n",
       "    <tr>\n",
       "      <th>20</th>\n",
       "      <td>38.0</td>\n",
       "      <td>1.0</td>\n",
       "      <td>0.0</td>\n",
       "      <td>1.0</td>\n",
       "      <td>0.0</td>\n",
       "      <td>0.000000</td>\n",
       "      <td>0.000000</td>\n",
       "      <td>0.000000</td>\n",
       "      <td>9.000000</td>\n",
       "      <td>8.000000</td>\n",
       "    </tr>\n",
       "    <tr>\n",
       "      <th>21</th>\n",
       "      <td>78.0</td>\n",
       "      <td>1.0</td>\n",
       "      <td>0.0</td>\n",
       "      <td>1.0</td>\n",
       "      <td>0.0</td>\n",
       "      <td>0.000000</td>\n",
       "      <td>0.000000</td>\n",
       "      <td>0.000000</td>\n",
       "      <td>9.000000</td>\n",
       "      <td>7.000000</td>\n",
       "    </tr>\n",
       "  </tbody>\n",
       "</table>\n",
       "</div>"
      ],
      "text/plain": [
       "    ANALIZADOR  DOSIS_ANALIZADAS  DOSIS_RECHAZADAS  DOSIS_ADMITIDAS  \\\n",
       "0         68.0           62134.0            5258.0          56876.0   \n",
       "1         47.0           46347.0            3004.0          43343.0   \n",
       "2         32.0           42655.0            3862.0          38793.0   \n",
       "3         60.0             642.0              69.0            573.0   \n",
       "4         51.0             530.0             105.0            425.0   \n",
       "5         57.0             398.0              42.0            356.0   \n",
       "6         31.0             331.0              54.0            277.0   \n",
       "7         72.0             199.0              36.0            163.0   \n",
       "8         59.0             176.0              69.0            107.0   \n",
       "9         71.0             152.0              52.0            100.0   \n",
       "10        79.0              34.0              29.0              5.0   \n",
       "11        43.0              34.0               4.0             30.0   \n",
       "12        69.0              30.0               3.0             27.0   \n",
       "13        61.0              20.0               0.0             20.0   \n",
       "14        58.0               7.0               1.0              6.0   \n",
       "15        56.0               3.0               0.0              3.0   \n",
       "16        81.0               2.0               0.0              2.0   \n",
       "17        62.0               1.0               0.0              1.0   \n",
       "18        55.0               1.0               0.0              1.0   \n",
       "19        73.0               1.0               0.0              1.0   \n",
       "20        38.0               1.0               0.0              1.0   \n",
       "21        78.0               1.0               0.0              1.0   \n",
       "\n",
       "    RECHAZO_FORMAS_ANORMALES  %RECHAZADAS  %FORMAS_ANORMALES  \\\n",
       "0                     1498.0     8.462356          28.489920   \n",
       "1                      462.0     6.481541          15.379494   \n",
       "2                      435.0     9.054038          11.263594   \n",
       "3                        1.0    10.747664           1.449275   \n",
       "4                        0.0    19.811321           0.000000   \n",
       "5                        0.0    10.552764           0.000000   \n",
       "6                        2.0    16.314199           3.703704   \n",
       "7                        0.0    18.090452           0.000000   \n",
       "8                        0.0    39.204545           0.000000   \n",
       "9                        0.0    34.210526           0.000000   \n",
       "10                       4.0    85.294118          13.793103   \n",
       "11                       1.0    11.764706          25.000000   \n",
       "12                       0.0    10.000000           0.000000   \n",
       "13                       0.0     0.000000           0.000000   \n",
       "14                       0.0    14.285714           0.000000   \n",
       "15                       0.0     0.000000           0.000000   \n",
       "16                       0.0     0.000000           0.000000   \n",
       "17                       0.0     0.000000           0.000000   \n",
       "18                       0.0     0.000000           0.000000   \n",
       "19                       0.0     0.000000           0.000000   \n",
       "20                       0.0     0.000000           0.000000   \n",
       "21                       0.0     0.000000           0.000000   \n",
       "\n",
       "    FORMAS_ANORMALES/ANALIZADAS  MEDIA_MOTILIDAD  MEDIA_CALIDAD_MOVIMIENTO  \n",
       "0                      0.024109         8.679547                  7.157772  \n",
       "1                      0.009968         8.287721                  7.673916  \n",
       "2                      0.010198         8.085523                  7.509342  \n",
       "3                      0.001558         8.158879                  7.633956  \n",
       "4                      0.000000         7.643396                  7.616981  \n",
       "5                      0.000000         7.793970                  7.585427  \n",
       "6                      0.006042         7.812689                  7.356495  \n",
       "7                      0.000000         7.512563                  6.587940  \n",
       "8                      0.000000         7.357955                  6.914773  \n",
       "9                      0.000000         7.407895                  6.256579  \n",
       "10                     0.117647         7.411765                  7.176471  \n",
       "11                     0.029412         7.823529                  7.352941  \n",
       "12                     0.000000         8.233333                  6.866667  \n",
       "13                     0.000000         8.900000                  7.350000  \n",
       "14                     0.000000         8.714286                  7.285714  \n",
       "15                     0.000000         8.333333                  7.333333  \n",
       "16                     0.000000         9.000000                  7.500000  \n",
       "17                     0.000000         8.000000                  8.000000  \n",
       "18                     0.000000         8.000000                  8.000000  \n",
       "19                     0.000000         8.000000                  8.000000  \n",
       "20                     0.000000         9.000000                  8.000000  \n",
       "21                     0.000000         9.000000                  7.000000  "
      ]
     },
     "execution_count": 40,
     "metadata": {},
     "output_type": "execute_result"
    }
   ],
   "source": [
    "df_analizadores"
   ]
  },
  {
   "cell_type": "code",
   "execution_count": 43,
   "metadata": {},
   "outputs": [],
   "source": [
    "df_analizadores.to_excel(\"DataFrame_Analizadores.xlsx\")"
   ]
  },
  {
   "cell_type": "markdown",
   "metadata": {},
   "source": [
    "**Se ha conseguido obtener la información de todos los analizadores**"
   ]
  },
  {
   "cell_type": "markdown",
   "metadata": {},
   "source": [
    "**Agrupo a los analizadores en un primer subgrupo donde encontramos a los 3 primeros puesto que son los que mayor número de dosis han analizado**"
   ]
  },
  {
   "cell_type": "code",
   "execution_count": 31,
   "metadata": {},
   "outputs": [],
   "source": [
    "top3_analizadores = df_analizadores[0:3]"
   ]
  },
  {
   "cell_type": "code",
   "execution_count": 32,
   "metadata": {},
   "outputs": [
    {
     "data": {
      "image/png": "[encoded data removed]",
      "text/plain": [
       "<Figure size 216x360 with 1 Axes>"
      ]
     },
     "metadata": {
      "needs_background": "light"
     },
     "output_type": "display_data"
    }
   ],
   "source": [
    "plt.figure(figsize=(3,5))\n",
    "plt.bar(top3_analizadores.index, top3_analizadores['DOSIS_ADMITIDAS'], label = 'Admitidas')\n",
    "plt.bar(top3_analizadores.index, top3_analizadores['DOSIS_RECHAZADAS'], label = 'Rechazadas')\n",
    "plt.xticks(top3_analizadores.index, top3_analizadores['ANALIZADOR'])\n",
    "\n",
    "plt.legend();"
   ]
  },
  {
   "cell_type": "code",
   "execution_count": 33,
   "metadata": {},
   "outputs": [],
   "source": [
    "resto_analizadores = df_analizadores[3:14]"
   ]
  },
  {
   "cell_type": "code",
   "execution_count": 34,
   "metadata": {},
   "outputs": [
    {
     "data": {
      "image/png": "[encoded data removed]",
      "text/plain": [
       "<Figure size 720x360 with 1 Axes>"
      ]
     },
     "metadata": {
      "needs_background": "light"
     },
     "output_type": "display_data"
    }
   ],
   "source": [
    "plt.figure(figsize=(10,5))\n",
    "plt.bar(resto_analizadores.index, resto_analizadores['DOSIS_ADMITIDAS'], label = 'Admitidas')\n",
    "plt.bar(resto_analizadores.index, resto_analizadores['DOSIS_RECHAZADAS'], label = 'Rechazadas')\n",
    "plt.xticks(resto_analizadores.index, resto_analizadores['ANALIZADOR'])\n",
    "plt.legend();"
   ]
  },
  {
   "cell_type": "markdown",
   "metadata": {},
   "source": [
    "**El resto de analizadores (78, 38, 73, 55, 62, 81, 56, 58) no han realizado análisis suficientes como para tenerlos en cuenta en el estudio**"
   ]
  },
  {
   "cell_type": "markdown",
   "metadata": {},
   "source": [
    "**Se pide hacer un estudio de las dosis rechazadas según formas anormales, para lo cual se ha elaborado el % que suponen las formas anormales en el total de los rechazos (%FORMAS_ANORMALES)** "
   ]
  },
  {
   "cell_type": "code",
   "execution_count": 35,
   "metadata": {},
   "outputs": [
    {
     "data": {
      "image/png": "[encoded data removed]",
      "text/plain": [
       "<Figure size 936x432 with 1 Axes>"
      ]
     },
     "metadata": {
      "needs_background": "light"
     },
     "output_type": "display_data"
    }
   ],
   "source": [
    "plt.figure(figsize=(13,6))\n",
    "plt.plot(df_analizadores.index, df_analizadores['%FORMAS_ANORMALES'])\n",
    "plt.xticks(df_analizadores.index, df_analizadores['ANALIZADOR'])\n",
    "plt.legend();"
   ]
  },
  {
   "cell_type": "markdown",
   "metadata": {},
   "source": [
    "**La grafica anterior no tiene en cuenta el número de dosis rechazadas. El analizador 68 posee cerca de un 30% de formas anormales detectadas en más de 5000 dosis rechazadas, mientras que el analizador 43 posee más o menos el mismo porcentaje con solo 4 dosis rechazadas**"
   ]
  },
  {
   "cell_type": "code",
   "execution_count": 36,
   "metadata": {},
   "outputs": [
    {
     "data": {
      "image/png": "[encoded data removed]",
      "text/plain": [
       "<Figure size 936x432 with 1 Axes>"
      ]
     },
     "metadata": {
      "needs_background": "light"
     },
     "output_type": "display_data"
    }
   ],
   "source": [
    "plt.figure(figsize=(13,6))\n",
    "plt.plot(df_analizadores.index, df_analizadores['FORMAS_ANORMALES/ANALIZADAS'])\n",
    "plt.xticks(df_analizadores.index, df_analizadores['ANALIZADOR'])\n",
    "plt.legend();"
   ]
  },
  {
   "cell_type": "markdown",
   "metadata": {},
   "source": [
    "**Los resultados muestran un par de cosas a destacar:**\n",
    "\n",
    "**- Los últimos 7 analizadores no han detectado ninguna forma anormal en sus análisis.**\n",
    "\n",
    "**- Se puede apreciar varios valores de formas anormales en varios analizadores: 79, 43, 68**"
   ]
  },
  {
   "cell_type": "markdown",
   "metadata": {},
   "source": [
    "**A continuación se recoge la información de dichos analizadores.**"
   ]
  },
  {
   "cell_type": "code",
   "execution_count": 37,
   "metadata": {},
   "outputs": [
    {
     "data": {
      "text/plain": [
       "ANALIZADOR  CENTRO\n",
       "31          CAL         331\n",
       "32          CAL       29031\n",
       "            PEÑAS     12734\n",
       "            TOL         890\n",
       "38          CAL           1\n",
       "43          CAL          25\n",
       "            PEÑAS         8\n",
       "            TOL           1\n",
       "47          CAL       34671\n",
       "            PEÑAS     10310\n",
       "            TOL        1366\n",
       "51          CAL         530\n",
       "55          CAL           1\n",
       "56          CAL           3\n",
       "57          CAL         398\n",
       "58          PEÑAS         7\n",
       "59          CAL         176\n",
       "60          CAL         642\n",
       "61          CAL          16\n",
       "            PEÑAS         4\n",
       "62          CAL           1\n",
       "68          CAL       34048\n",
       "            PEÑAS     25736\n",
       "            TOL        2350\n",
       "69          CAL          12\n",
       "            PEÑAS        18\n",
       "71          CAL         103\n",
       "            PEÑAS        49\n",
       "72          CAL         136\n",
       "            PEÑAS        53\n",
       "            TOL          10\n",
       "73          CAL           1\n",
       "78          CAL           1\n",
       "79          CAL          30\n",
       "            PEÑAS         4\n",
       "81          CAL           1\n",
       "            PEÑAS         1\n",
       "Name: ANALIZADOR, dtype: int64"
      ]
     },
     "execution_count": 37,
     "metadata": {},
     "output_type": "execute_result"
    }
   ],
   "source": [
    "df.groupby(['ANALIZADOR', 'CENTRO'])['ANALIZADOR'].count()"
   ]
  },
  {
   "cell_type": "code",
   "execution_count": 38,
   "metadata": {},
   "outputs": [
    {
     "data": {
      "text/plain": [
       "array(['CAL', 'PEÑAS', 'TOL'], dtype=object)"
      ]
     },
     "execution_count": 38,
     "metadata": {},
     "output_type": "execute_result"
    }
   ],
   "source": [
    "df['CENTRO'].unique()"
   ]
  },
  {
   "cell_type": "markdown",
   "metadata": {},
   "source": [
    "**Según el segundo gráfico de barras apiladas, los analizadores 59 y 71 han destacado por el gran número de dosis rechazadas (59/176 y 52/152), siendo ambos del centro CAL.**"
   ]
  },
  {
   "cell_type": "markdown",
   "metadata": {},
   "source": [
    "**Según el último gráfico de línea obtenido, los analizadores 79, 43, 68 han destacado por tener los números más elevados de rechazo por formas anormales entre todas sus dosis analizadas, perteneciendo los tres al centro CAL.**"
   ]
  },
  {
   "cell_type": "code",
   "execution_count": null,
   "metadata": {},
   "outputs": [],
   "source": []
  },
  {
   "cell_type": "code",
   "execution_count": null,
   "metadata": {},
   "outputs": [],
   "source": []
  },
  {
   "cell_type": "code",
   "execution_count": null,
   "metadata": {},
   "outputs": [],
   "source": []
  },
  {
   "cell_type": "code",
   "execution_count": null,
   "metadata": {},
   "outputs": [],
   "source": []
  },
  {
   "cell_type": "code",
   "execution_count": null,
   "metadata": {},
   "outputs": [],
   "source": []
  },
  {
   "cell_type": "code",
   "execution_count": null,
   "metadata": {},
   "outputs": [],
   "source": []
  },
  {
   "cell_type": "code",
   "execution_count": null,
   "metadata": {},
   "outputs": [],
   "source": []
  },
  {
   "cell_type": "code",
   "execution_count": null,
   "metadata": {},
   "outputs": [],
   "source": []
  },
  {
   "cell_type": "code",
   "execution_count": null,
   "metadata": {},
   "outputs": [],
   "source": []
  },
  {
   "cell_type": "code",
   "execution_count": null,
   "metadata": {},
   "outputs": [],
   "source": []
  },
  {
   "cell_type": "code",
   "execution_count": null,
   "metadata": {},
   "outputs": [],
   "source": []
  },
  {
   "cell_type": "code",
   "execution_count": null,
   "metadata": {},
   "outputs": [],
   "source": []
  },
  {
   "cell_type": "code",
   "execution_count": null,
   "metadata": {},
   "outputs": [],
   "source": []
  },
  {
   "cell_type": "code",
   "execution_count": null,
   "metadata": {},
   "outputs": [],
   "source": []
  },
  {
   "cell_type": "code",
   "execution_count": null,
   "metadata": {},
   "outputs": [],
   "source": []
  },
  {
   "cell_type": "code",
   "execution_count": null,
   "metadata": {},
   "outputs": [],
   "source": []
  },
  {
   "cell_type": "code",
   "execution_count": null,
   "metadata": {},
   "outputs": [],
   "source": []
  },
  {
   "cell_type": "code",
   "execution_count": null,
   "metadata": {},
   "outputs": [],
   "source": []
  },
  {
   "cell_type": "code",
   "execution_count": null,
   "metadata": {},
   "outputs": [],
   "source": []
  },
  {
   "cell_type": "code",
   "execution_count": null,
   "metadata": {},
   "outputs": [],
   "source": []
  }
 ],
 "metadata": {
  "kernelspec": {
   "display_name": "Python 3",
   "language": "python",
   "name": "python3"
  },
  "language_info": {
   "codemirror_mode": {
    "name": "ipython",
    "version": 3
   },
   "file_extension": ".py",
   "mimetype": "text/x-python",
   "name": "python",
   "nbconvert_exporter": "python",
   "pygments_lexer": "ipython3",
   "version": "3.7.1"
  }
 },
 "nbformat": 4,
 "nbformat_minor": 2
}
